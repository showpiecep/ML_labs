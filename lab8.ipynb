{
  "nbformat": 4,
  "nbformat_minor": 0,
  "metadata": {
    "colab": {
      "provenance": [],
      "authorship_tag": "ABX9TyPiHpU+DU1ThWs51ZLCFAtU",
      "include_colab_link": true
    },
    "kernelspec": {
      "name": "python3",
      "display_name": "Python 3"
    },
    "language_info": {
      "name": "python"
    }
  },
  "cells": [
    {
      "cell_type": "markdown",
      "metadata": {
        "id": "view-in-github",
        "colab_type": "text"
      },
      "source": [
        "<a href=\"https://colab.research.google.com/github/showpiecep/ML_labs/blob/main/lab8.ipynb\" target=\"_parent\"><img src=\"https://colab.research.google.com/assets/colab-badge.svg\" alt=\"Open In Colab\"/></a>"
      ]
    },
    {
      "cell_type": "code",
      "execution_count": 1,
      "metadata": {
        "colab": {
          "base_uri": "https://localhost:8080/",
          "height": 206
        },
        "id": "Ylq1Fg9hr33E",
        "outputId": "24871b37-db3d-4d8d-9e46-ed0b3e97ce26"
      },
      "outputs": [
        {
          "output_type": "execute_result",
          "data": {
            "text/plain": [
              "     0    1    2    3            4\n",
              "0  5.1  3.5  1.4  0.2  Iris-setosa\n",
              "1  4.9  3.0  1.4  0.2  Iris-setosa\n",
              "2  4.7  3.2  1.3  0.2  Iris-setosa\n",
              "3  4.6  3.1  1.5  0.2  Iris-setosa\n",
              "4  5.0  3.6  1.4  0.2  Iris-setosa"
            ],
            "text/html": [
              "\n",
              "  <div id=\"df-977f6b14-d0f7-488e-a03e-005eb6ab0bb0\">\n",
              "    <div class=\"colab-df-container\">\n",
              "      <div>\n",
              "<style scoped>\n",
              "    .dataframe tbody tr th:only-of-type {\n",
              "        vertical-align: middle;\n",
              "    }\n",
              "\n",
              "    .dataframe tbody tr th {\n",
              "        vertical-align: top;\n",
              "    }\n",
              "\n",
              "    .dataframe thead th {\n",
              "        text-align: right;\n",
              "    }\n",
              "</style>\n",
              "<table border=\"1\" class=\"dataframe\">\n",
              "  <thead>\n",
              "    <tr style=\"text-align: right;\">\n",
              "      <th></th>\n",
              "      <th>0</th>\n",
              "      <th>1</th>\n",
              "      <th>2</th>\n",
              "      <th>3</th>\n",
              "      <th>4</th>\n",
              "    </tr>\n",
              "  </thead>\n",
              "  <tbody>\n",
              "    <tr>\n",
              "      <th>0</th>\n",
              "      <td>5.1</td>\n",
              "      <td>3.5</td>\n",
              "      <td>1.4</td>\n",
              "      <td>0.2</td>\n",
              "      <td>Iris-setosa</td>\n",
              "    </tr>\n",
              "    <tr>\n",
              "      <th>1</th>\n",
              "      <td>4.9</td>\n",
              "      <td>3.0</td>\n",
              "      <td>1.4</td>\n",
              "      <td>0.2</td>\n",
              "      <td>Iris-setosa</td>\n",
              "    </tr>\n",
              "    <tr>\n",
              "      <th>2</th>\n",
              "      <td>4.7</td>\n",
              "      <td>3.2</td>\n",
              "      <td>1.3</td>\n",
              "      <td>0.2</td>\n",
              "      <td>Iris-setosa</td>\n",
              "    </tr>\n",
              "    <tr>\n",
              "      <th>3</th>\n",
              "      <td>4.6</td>\n",
              "      <td>3.1</td>\n",
              "      <td>1.5</td>\n",
              "      <td>0.2</td>\n",
              "      <td>Iris-setosa</td>\n",
              "    </tr>\n",
              "    <tr>\n",
              "      <th>4</th>\n",
              "      <td>5.0</td>\n",
              "      <td>3.6</td>\n",
              "      <td>1.4</td>\n",
              "      <td>0.2</td>\n",
              "      <td>Iris-setosa</td>\n",
              "    </tr>\n",
              "  </tbody>\n",
              "</table>\n",
              "</div>\n",
              "      <button class=\"colab-df-convert\" onclick=\"convertToInteractive('df-977f6b14-d0f7-488e-a03e-005eb6ab0bb0')\"\n",
              "              title=\"Convert this dataframe to an interactive table.\"\n",
              "              style=\"display:none;\">\n",
              "        \n",
              "  <svg xmlns=\"http://www.w3.org/2000/svg\" height=\"24px\"viewBox=\"0 0 24 24\"\n",
              "       width=\"24px\">\n",
              "    <path d=\"M0 0h24v24H0V0z\" fill=\"none\"/>\n",
              "    <path d=\"M18.56 5.44l.94 2.06.94-2.06 2.06-.94-2.06-.94-.94-2.06-.94 2.06-2.06.94zm-11 1L8.5 8.5l.94-2.06 2.06-.94-2.06-.94L8.5 2.5l-.94 2.06-2.06.94zm10 10l.94 2.06.94-2.06 2.06-.94-2.06-.94-.94-2.06-.94 2.06-2.06.94z\"/><path d=\"M17.41 7.96l-1.37-1.37c-.4-.4-.92-.59-1.43-.59-.52 0-1.04.2-1.43.59L10.3 9.45l-7.72 7.72c-.78.78-.78 2.05 0 2.83L4 21.41c.39.39.9.59 1.41.59.51 0 1.02-.2 1.41-.59l7.78-7.78 2.81-2.81c.8-.78.8-2.07 0-2.86zM5.41 20L4 18.59l7.72-7.72 1.47 1.35L5.41 20z\"/>\n",
              "  </svg>\n",
              "      </button>\n",
              "      \n",
              "  <style>\n",
              "    .colab-df-container {\n",
              "      display:flex;\n",
              "      flex-wrap:wrap;\n",
              "      gap: 12px;\n",
              "    }\n",
              "\n",
              "    .colab-df-convert {\n",
              "      background-color: #E8F0FE;\n",
              "      border: none;\n",
              "      border-radius: 50%;\n",
              "      cursor: pointer;\n",
              "      display: none;\n",
              "      fill: #1967D2;\n",
              "      height: 32px;\n",
              "      padding: 0 0 0 0;\n",
              "      width: 32px;\n",
              "    }\n",
              "\n",
              "    .colab-df-convert:hover {\n",
              "      background-color: #E2EBFA;\n",
              "      box-shadow: 0px 1px 2px rgba(60, 64, 67, 0.3), 0px 1px 3px 1px rgba(60, 64, 67, 0.15);\n",
              "      fill: #174EA6;\n",
              "    }\n",
              "\n",
              "    [theme=dark] .colab-df-convert {\n",
              "      background-color: #3B4455;\n",
              "      fill: #D2E3FC;\n",
              "    }\n",
              "\n",
              "    [theme=dark] .colab-df-convert:hover {\n",
              "      background-color: #434B5C;\n",
              "      box-shadow: 0px 1px 3px 1px rgba(0, 0, 0, 0.15);\n",
              "      filter: drop-shadow(0px 1px 2px rgba(0, 0, 0, 0.3));\n",
              "      fill: #FFFFFF;\n",
              "    }\n",
              "  </style>\n",
              "\n",
              "      <script>\n",
              "        const buttonEl =\n",
              "          document.querySelector('#df-977f6b14-d0f7-488e-a03e-005eb6ab0bb0 button.colab-df-convert');\n",
              "        buttonEl.style.display =\n",
              "          google.colab.kernel.accessAllowed ? 'block' : 'none';\n",
              "\n",
              "        async function convertToInteractive(key) {\n",
              "          const element = document.querySelector('#df-977f6b14-d0f7-488e-a03e-005eb6ab0bb0');\n",
              "          const dataTable =\n",
              "            await google.colab.kernel.invokeFunction('convertToInteractive',\n",
              "                                                     [key], {});\n",
              "          if (!dataTable) return;\n",
              "\n",
              "          const docLinkHtml = 'Like what you see? Visit the ' +\n",
              "            '<a target=\"_blank\" href=https://colab.research.google.com/notebooks/data_table.ipynb>data table notebook</a>'\n",
              "            + ' to learn more about interactive tables.';\n",
              "          element.innerHTML = '';\n",
              "          dataTable['output_type'] = 'display_data';\n",
              "          await google.colab.output.renderOutput(dataTable, element);\n",
              "          const docLink = document.createElement('div');\n",
              "          docLink.innerHTML = docLinkHtml;\n",
              "          element.appendChild(docLink);\n",
              "        }\n",
              "      </script>\n",
              "    </div>\n",
              "  </div>\n",
              "  "
            ]
          },
          "metadata": {},
          "execution_count": 1
        }
      ],
      "source": [
        "import pandas as pd\n",
        "import numpy as np\n",
        "data = pd.read_csv('iris.data',header=None)\n",
        "data.head()"
      ]
    },
    {
      "cell_type": "code",
      "source": [
        "X = data.iloc[:,:4].to_numpy()\n",
        "labels = data.iloc[:,4].to_numpy()"
      ],
      "metadata": {
        "id": "mPTaW5RPsTyC"
      },
      "execution_count": 2,
      "outputs": []
    },
    {
      "cell_type": "code",
      "source": [
        "from sklearn import preprocessing\n",
        "\n",
        "le = preprocessing.LabelEncoder()\n",
        "Y = le.fit_transform(labels)"
      ],
      "metadata": {
        "id": "HyKm97M4sadi"
      },
      "execution_count": 3,
      "outputs": []
    },
    {
      "cell_type": "code",
      "source": [
        "from sklearn.model_selection import train_test_split\n",
        "X_train, X_test, y_train, y_test = train_test_split(X, Y, test_size=0.5)"
      ],
      "metadata": {
        "id": "S22NelRzsbZw"
      },
      "execution_count": 4,
      "outputs": []
    },
    {
      "cell_type": "code",
      "source": [
        "X_train, X_test, y_train, y_test = train_test_split(X, Y, test_size=0.5, random_state=0)\n",
        "\n",
        "from sklearn.discriminant_analysis import LinearDiscriminantAnalysis\n",
        "\n",
        "clf = LinearDiscriminantAnalysis()\n",
        "y_pred = clf.fit(X_train, y_train).predict(X_test)\n",
        "\n",
        "print((y_test != y_pred).sum()) #количество наблюдений, который были неправильно определены"
      ],
      "metadata": {
        "colab": {
          "base_uri": "https://localhost:8080/"
        },
        "id": "UmFXvmBzsg1G",
        "outputId": "03a92e3e-4889-4234-929d-a8f439475e45"
      },
      "execution_count": 5,
      "outputs": [
        {
          "output_type": "stream",
          "name": "stdout",
          "text": [
            "3\n"
          ]
        }
      ]
    },
    {
      "cell_type": "markdown",
      "source": [
        "Параметры\n",
        "\n",
        "1. solver - определяет метод решения задачи оптимизации. Возможные значения: 'svd' (сингулярное разложение), 'lsqr' (метод наименьших квадратов), 'eigen' (разложение по собственным векторам).\n",
        "\n",
        "2. shrinkage - определяет коэффициент сжатия для матрицы ковариации. Возможные значения: None (без сжатия), 'auto' (автоматический выбор коэффициента), float (заданный коэффициент).\n",
        "\n",
        "3. priors - массив, содержащий априорные вероятности каждого класса.\n",
        "\n",
        "4. n_components - число компонент, которые нужно оставить после сокращения размерности.\n",
        "\n",
        "5. store_covariance - флаг, указывающий, нужно ли сохранять матрицу ковариации.\n",
        "\n",
        "6. tol - точность решения задачи оптимизации.\n",
        "\n",
        "7. covariance_estimator - оценщик матрицы ковариации, который будет использоваться, если параметр shrinkage равен 'auto'. Возможные значения: 'empirical' (эмпирическая оценка), 'ledoit_wolf' (оценка Ledoit-Wolf), 'oas' (оценка OAS).\n",
        "\n",
        "8. priors - априорные вероятности классов.\n",
        "\n",
        "9. tol - точность решения задачи оптимизации.\n",
        "\n",
        "10. store_covariance - флаг, указывающий, нужно ли сохранять матрицу ковариации.\n",
        "\n",
        "11. tol - точность решения задачи оптимизации.\n",
        "\n",
        "12. covariance_estimator - оценщик матрицы ковариации, который будет использоваться, если параметр shrinkage равен 'auto'. Возможные значения: 'empirical' (эмпирическая оценка), 'ledoit_wolf' (оценка Ledoit-Wolf), 'oas' (оценка OAS).\n",
        "\n",
        "Атрибуты\n",
        "\n",
        "1. coef_ - коэффициенты линейной комбинации признаков для каждого класса.\n",
        "\n",
        "2. intercept_ - свободный член линейной комбинации признаков для каждого класса.\n",
        "\n",
        "3. means_ - средние значения признаков для каждого класса.\n",
        "\n",
        "4. priors_ - априорные вероятности каждого класса.\n",
        "\n",
        "5. covariance_ - матрица ковариации признаков для всех классов (если параметр store_covariance установлен в True).\n",
        "\n",
        "6. explained_variance_ratio_ - процент дисперсии, объясненной каждой компонентой после сокращения размерности.\n",
        "\n",
        "7. classes_ - список классов.\n",
        "\n",
        "8. scalings_ - веса линейной комбинации признаков для каждой компоненты после сокращения размерности.\n",
        "\n",
        "9. xbar_ - среднее значение признаков по всем классам.\n",
        "\n",
        "10. covariance_estimator_ - оценщик матрицы ковариации (если параметр shrinkage установлен в 'auto')."
      ],
      "metadata": {
        "id": "5FbhXmleKDAO"
      }
    },
    {
      "cell_type": "code",
      "source": [
        "print(f'Точность классификации {clf.fit(X_train, y_train).score(X_test, y_test) * 100}%')"
      ],
      "metadata": {
        "colab": {
          "base_uri": "https://localhost:8080/"
        },
        "id": "mSFudrWDskDk",
        "outputId": "82a212f5-6940-4c29-ea4a-eb237c2d7fd3"
      },
      "execution_count": 6,
      "outputs": [
        {
          "output_type": "stream",
          "name": "stdout",
          "text": [
            "Точность классификации 96.0%\n"
          ]
        }
      ]
    },
    {
      "cell_type": "code",
      "source": [
        "import matplotlib.pyplot as plt\n",
        "\n",
        "size = 0\n",
        "list_test_size = []\n",
        "percentage_misclassified_observations = []\n",
        "classification_accuracy = []\n",
        "\n",
        "while size <= 0.95:\n",
        "    size += 0.05\n",
        "\n",
        "    X_train, X_test, y_train, y_test = train_test_split(X, Y, test_size=size)\n",
        "    gnb = LinearDiscriminantAnalysis()\n",
        "    y_pred = gnb.fit(X_train, y_train).predict(X_test)\n",
        "\n",
        "    list_test_size.append(size)\n",
        "    percentage_misclassified_observations.append(np.count_nonzero(y_test != y_pred) / len(y_pred))\n",
        "    classification_accuracy.append(gnb.fit(X_train, y_train).score(X_test, y_test))\n",
        "\n",
        "fig, ax = plt.subplots(figsize=(17, 10))\n",
        "\n",
        "ax.bar(list_test_size, classification_accuracy, width=0.03)\n",
        "ax.bar(list_test_size, percentage_misclassified_observations, width=0.03)\n",
        "\n",
        "ax.set_facecolor('seashell')\n",
        "fig.set_facecolor('floralwhite')\n",
        "\n",
        "plt.xlabel('Размер тестовой выборки')\n",
        "plt.ylabel('Неправильно классифицированные наблюдения (оранжевый) и точность классификации (синий)')\n",
        "plt.title(\n",
        "    label='График зависимости неправильно классифицированных наблюдений и точности классификации от размера тестовой выборки.',\n",
        "    fontweight=12)\n",
        "\n",
        "plt.show()"
      ],
      "metadata": {
        "colab": {
          "base_uri": "https://localhost:8080/",
          "height": 808
        },
        "id": "e5D4DD2qKMJ4",
        "outputId": "c5fc7e58-c74a-41e3-d153-a8afdce50fb7"
      },
      "execution_count": 7,
      "outputs": [
        {
          "output_type": "display_data",
          "data": {
            "text/plain": [
              "<Figure size 1700x1000 with 1 Axes>"
            ],
            "image/png": "[encoded data removed]"
          },
          "metadata": {}
        }
      ]
    },
    {
      "cell_type": "markdown",
      "source": [
        "## Используя функцию transform"
      ],
      "metadata": {
        "id": "66Jhj8YEMAKe"
      }
    },
    {
      "cell_type": "code",
      "source": [
        "import warnings\n",
        "import sys\n",
        "import os\n",
        "\n",
        "if not sys.warnoptions:\n",
        "    warnings.simplefilter(\"ignore\")\n",
        "    os.environ[\"PYTHONWARNINGS\"] = \"ignore\"\n",
        "\n",
        "size = 0\n",
        "list_test_size = []\n",
        "percentage_misclassified_observations = []\n",
        "classification_accuracy = []\n",
        "\n",
        "while size <= 0.95:\n",
        "    size += 0.05\n",
        "\n",
        "    X_train, X_test, y_train, y_test = train_test_split(X, Y, test_size=size)\n",
        "    gnb = LinearDiscriminantAnalysis()\n",
        "    y_pred = gnb.fit(X_train, y_train).transform(X_test)\n",
        "\n",
        "    list_test_size.append(size)\n",
        "    percentage_misclassified_observations.append(np.count_nonzero(y_test != y_pred) / len(y_pred))\n",
        "    classification_accuracy.append(gnb.fit(X_train, y_train).score(X_test, y_test))\n",
        "\n",
        "fig, ax = plt.subplots(figsize=(17, 10))\n",
        "\n",
        "ax.bar(list_test_size, classification_accuracy, width=0.03)\n",
        "ax.bar(list_test_size, percentage_misclassified_observations, width=0.03)\n",
        "\n",
        "ax.set_facecolor('seashell')\n",
        "fig.set_facecolor('floralwhite')\n",
        "\n",
        "plt.xlabel('Размер тестовой выборки')\n",
        "plt.ylabel('Неправильно классифицированные наблюдения (оранжевый) и точность классификации (синий)')\n",
        "\n",
        "plt.show()"
      ],
      "metadata": {
        "colab": {
          "base_uri": "https://localhost:8080/",
          "height": 1000
        },
        "id": "7z3TkHfeKTk4",
        "outputId": "588e2310-16cf-4224-de74-fe5f6a8da3ee"
      },
      "execution_count": 8,
      "outputs": [
        {
          "output_type": "stream",
          "name": "stderr",
          "text": [
            "<ipython-input-8-ab1e95748f4c>:22: DeprecationWarning: elementwise comparison failed; this will raise an error in the future.\n",
            "  percentage_misclassified_observations.append(np.count_nonzero(y_test != y_pred) / len(y_pred))\n",
            "<ipython-input-8-ab1e95748f4c>:22: DeprecationWarning: elementwise comparison failed; this will raise an error in the future.\n",
            "  percentage_misclassified_observations.append(np.count_nonzero(y_test != y_pred) / len(y_pred))\n",
            "<ipython-input-8-ab1e95748f4c>:22: DeprecationWarning: elementwise comparison failed; this will raise an error in the future.\n",
            "  percentage_misclassified_observations.append(np.count_nonzero(y_test != y_pred) / len(y_pred))\n",
            "<ipython-input-8-ab1e95748f4c>:22: DeprecationWarning: elementwise comparison failed; this will raise an error in the future.\n",
            "  percentage_misclassified_observations.append(np.count_nonzero(y_test != y_pred) / len(y_pred))\n",
            "<ipython-input-8-ab1e95748f4c>:22: DeprecationWarning: elementwise comparison failed; this will raise an error in the future.\n",
            "  percentage_misclassified_observations.append(np.count_nonzero(y_test != y_pred) / len(y_pred))\n",
            "<ipython-input-8-ab1e95748f4c>:22: DeprecationWarning: elementwise comparison failed; this will raise an error in the future.\n",
            "  percentage_misclassified_observations.append(np.count_nonzero(y_test != y_pred) / len(y_pred))\n",
            "<ipython-input-8-ab1e95748f4c>:22: DeprecationWarning: elementwise comparison failed; this will raise an error in the future.\n",
            "  percentage_misclassified_observations.append(np.count_nonzero(y_test != y_pred) / len(y_pred))\n",
            "<ipython-input-8-ab1e95748f4c>:22: DeprecationWarning: elementwise comparison failed; this will raise an error in the future.\n",
            "  percentage_misclassified_observations.append(np.count_nonzero(y_test != y_pred) / len(y_pred))\n",
            "<ipython-input-8-ab1e95748f4c>:22: DeprecationWarning: elementwise comparison failed; this will raise an error in the future.\n",
            "  percentage_misclassified_observations.append(np.count_nonzero(y_test != y_pred) / len(y_pred))\n",
            "<ipython-input-8-ab1e95748f4c>:22: DeprecationWarning: elementwise comparison failed; this will raise an error in the future.\n",
            "  percentage_misclassified_observations.append(np.count_nonzero(y_test != y_pred) / len(y_pred))\n",
            "<ipython-input-8-ab1e95748f4c>:22: DeprecationWarning: elementwise comparison failed; this will raise an error in the future.\n",
            "  percentage_misclassified_observations.append(np.count_nonzero(y_test != y_pred) / len(y_pred))\n",
            "<ipython-input-8-ab1e95748f4c>:22: DeprecationWarning: elementwise comparison failed; this will raise an error in the future.\n",
            "  percentage_misclassified_observations.append(np.count_nonzero(y_test != y_pred) / len(y_pred))\n",
            "<ipython-input-8-ab1e95748f4c>:22: DeprecationWarning: elementwise comparison failed; this will raise an error in the future.\n",
            "  percentage_misclassified_observations.append(np.count_nonzero(y_test != y_pred) / len(y_pred))\n",
            "<ipython-input-8-ab1e95748f4c>:22: DeprecationWarning: elementwise comparison failed; this will raise an error in the future.\n",
            "  percentage_misclassified_observations.append(np.count_nonzero(y_test != y_pred) / len(y_pred))\n",
            "<ipython-input-8-ab1e95748f4c>:22: DeprecationWarning: elementwise comparison failed; this will raise an error in the future.\n",
            "  percentage_misclassified_observations.append(np.count_nonzero(y_test != y_pred) / len(y_pred))\n",
            "<ipython-input-8-ab1e95748f4c>:22: DeprecationWarning: elementwise comparison failed; this will raise an error in the future.\n",
            "  percentage_misclassified_observations.append(np.count_nonzero(y_test != y_pred) / len(y_pred))\n",
            "<ipython-input-8-ab1e95748f4c>:22: DeprecationWarning: elementwise comparison failed; this will raise an error in the future.\n",
            "  percentage_misclassified_observations.append(np.count_nonzero(y_test != y_pred) / len(y_pred))\n",
            "<ipython-input-8-ab1e95748f4c>:22: DeprecationWarning: elementwise comparison failed; this will raise an error in the future.\n",
            "  percentage_misclassified_observations.append(np.count_nonzero(y_test != y_pred) / len(y_pred))\n",
            "<ipython-input-8-ab1e95748f4c>:22: DeprecationWarning: elementwise comparison failed; this will raise an error in the future.\n",
            "  percentage_misclassified_observations.append(np.count_nonzero(y_test != y_pred) / len(y_pred))\n"
          ]
        },
        {
          "output_type": "display_data",
          "data": {
            "text/plain": [
              "<Figure size 1700x1000 with 1 Axes>"
            ],
            "image/png": "[encoded data removed]"
          },
          "metadata": {}
        }
      ]
    },
    {
      "cell_type": "code",
      "source": [
        "from random import uniform\n",
        "\n",
        "solver_parameters = ('svd', 'lsqr', 'eigen')\n",
        "\n",
        "for parameter in solver_parameters:\n",
        "    X_train, X_test, y_train, y_test = train_test_split(X, Y, test_size=0.5)\n",
        "    if parameter != 'svd':\n",
        "        rand_shrinkage = uniform(0.05, 1)\n",
        "        gnb = LinearDiscriminantAnalysis(solver=parameter, shrinkage=rand_shrinkage)\n",
        "        y_pred = gnb.fit(X_train, y_train).predict(X_test)\n",
        "        print(\n",
        "            f'solver: {parameter}, shrinkage: {rand_shrinkage} - количество параметров которые неправильно были определены: {np.count_nonzero(y_test != y_pred)}')\n",
        "    else:\n",
        "        gnb = LinearDiscriminantAnalysis(solver=parameter)\n",
        "        y_pred = gnb.fit(X_train, y_train).predict(X_test)\n",
        "        print(f'solver: {parameter}, количество параметров которые неправильно были определены: {np.count_nonzero(y_test != y_pred)}')"
      ],
      "metadata": {
        "colab": {
          "base_uri": "https://localhost:8080/"
        },
        "id": "0DMUX2YASaaM",
        "outputId": "094ac1e6-9f23-4c5f-b171-c4ddf5d930d0"
      },
      "execution_count": 9,
      "outputs": [
        {
          "output_type": "stream",
          "name": "stdout",
          "text": [
            "solver: svd, количество параметров которые неправильно были определены: 4\n",
            "solver: lsqr, shrinkage: 0.21193150106806014 - количество параметров которые неправильно были определены: 3\n",
            "solver: eigen, shrinkage: 0.6294132548215169 - количество параметров которые неправильно были определены: 4\n"
          ]
        }
      ]
    },
    {
      "cell_type": "code",
      "source": [
        "X_train, X_test, y_train, y_test = train_test_split(X, Y, test_size=0.5)\n",
        "gnb = LinearDiscriminantAnalysis(priors=[0.7, 0.15, 0.15])\n",
        "y_pred = gnb.fit(X_train, y_train).predict(X_test)\n",
        "\n",
        "print(np.count_nonzero(y_test != y_pred))\n",
        "print(f'Точность классификации {clf.fit(X_train, y_train).score(X_test, y_test) * 100}%')"
      ],
      "metadata": {
        "colab": {
          "base_uri": "https://localhost:8080/"
        },
        "id": "RPKgx6LMSo-N",
        "outputId": "be51d008-940c-481f-90fe-67b3dcbda526"
      },
      "execution_count": 10,
      "outputs": [
        {
          "output_type": "stream",
          "name": "stdout",
          "text": [
            "0\n",
            "Точность классификации 100.0%\n"
          ]
        }
      ]
    },
    {
      "cell_type": "code",
      "source": [
        "from sklearn import svm\n",
        "\n",
        "clf = svm.SVC()\n",
        "y_pred = clf.fit(X_train, y_train).predict(X_test)\n",
        "print(np.count_nonzero(y_test != y_pred))\n",
        "print(clf.score(X, Y))"
      ],
      "metadata": {
        "colab": {
          "base_uri": "https://localhost:8080/"
        },
        "id": "ss_sC8TZSqsT",
        "outputId": "a23ccaae-ad5e-4ec9-f490-84af2376439b"
      },
      "execution_count": 11,
      "outputs": [
        {
          "output_type": "stream",
          "name": "stdout",
          "text": [
            "3\n",
            "0.9533333333333334\n"
          ]
        }
      ]
    },
    {
      "cell_type": "code",
      "source": [
        "print(clf.fit(X_train, y_train).score(X_test, y_test))"
      ],
      "metadata": {
        "colab": {
          "base_uri": "https://localhost:8080/"
        },
        "id": "VcCDNCg1SsKZ",
        "outputId": "f1b70e37-7de7-40ba-b3cf-883490a57f38"
      },
      "execution_count": 12,
      "outputs": [
        {
          "output_type": "stream",
          "name": "stdout",
          "text": [
            "0.96\n"
          ]
        }
      ]
    },
    {
      "cell_type": "markdown",
      "source": [
        "- clf.support_vectors_ - массив опорных векторов, используемых для построения гиперплоскости разделения классов\n",
        "- clf.support_ - индексы опорных векторов в исходном наборе данных\n",
        "- clf.n_support_ - количество опорных векторов для каждого класса\n",
        "\n",
        "Эти параметры зависят от выбранного ядра и параметров модели SVM, а также от распределения данных и их сложности. Опорные векторы являются важными элементами модели SVM, так как они определяют границы разделения классов и позволяют получить оптимальную гиперплоскость разделения."
      ],
      "metadata": {
        "id": "3wKYpdHYTFKA"
      }
    },
    {
      "cell_type": "code",
      "source": [
        "print(clf.support_vectors_)\n",
        "print(clf.support_)\n",
        "print(clf.n_support_)"
      ],
      "metadata": {
        "colab": {
          "base_uri": "https://localhost:8080/"
        },
        "id": "tSR0oH2UStsk",
        "outputId": "169658e2-f695-4b4e-a293-1f6ea6fc46c6"
      },
      "execution_count": 13,
      "outputs": [
        {
          "output_type": "stream",
          "name": "stdout",
          "text": [
            "[[4.4 2.9 1.4 0.2]\n",
            " [5.1 3.8 1.9 0.4]\n",
            " [5.1 3.3 1.7 0.5]\n",
            " [5.4 3.4 1.7 0.2]\n",
            " [6.9 3.1 4.9 1.5]\n",
            " [6.8 2.8 4.8 1.4]\n",
            " [5.2 2.7 3.9 1.4]\n",
            " [6.2 2.2 4.5 1.5]\n",
            " [6.1 2.8 4.7 1.2]\n",
            " [6.3 2.3 4.4 1.3]\n",
            " [5.8 2.7 3.9 1.2]\n",
            " [6.5 2.8 4.6 1.5]\n",
            " [6.7 3.1 4.7 1.5]\n",
            " [6.4 2.9 4.3 1.3]\n",
            " [5.5 2.4 3.8 1.1]\n",
            " [5.9 3.2 4.8 1.8]\n",
            " [6.  2.7 5.1 1.6]\n",
            " [5.6 2.7 4.2 1.3]\n",
            " [6.6 2.9 4.6 1.3]\n",
            " [6.7 3.  5.  1.7]\n",
            " [5.  2.  3.5 1. ]\n",
            " [6.3 2.5 4.9 1.5]\n",
            " [5.4 3.  4.5 1.5]\n",
            " [5.7 2.8 4.5 1.3]\n",
            " [5.7 2.9 4.2 1.3]\n",
            " [6.5 3.  5.2 2. ]\n",
            " [6.3 2.5 5.  1.9]\n",
            " [6.7 2.5 5.8 1.8]\n",
            " [6.2 2.8 4.8 1.8]\n",
            " [7.9 3.8 6.4 2. ]\n",
            " [6.7 3.3 5.7 2.1]\n",
            " [6.3 2.9 5.6 1.8]\n",
            " [6.5 3.  5.5 1.8]\n",
            " [6.2 3.4 5.4 2.3]\n",
            " [4.9 2.5 4.5 1.7]\n",
            " [5.8 2.8 5.1 2.4]\n",
            " [7.2 3.  5.8 1.6]\n",
            " [5.6 2.8 4.9 2. ]\n",
            " [6.3 2.8 5.1 1.5]\n",
            " [6.4 3.1 5.5 1.8]\n",
            " [5.8 2.7 5.1 1.9]\n",
            " [6.1 3.  4.9 1.8]]\n",
            "[ 0  3 13 58  1  2  4  6 11 18 19 21 29 31 34 37 46 48 53 59 65 67 69 70\n",
            " 71  5  8 10 16 24 32 35 39 40 43 50 54 55 57 62 72 73]\n",
            "[ 4 21 17]\n"
          ]
        }
      ]
    },
    {
      "cell_type": "code",
      "source": [
        "import matplotlib.pyplot as plt\n",
        "\n",
        "size = 0\n",
        "list_test_size = []\n",
        "percentage_misclassified_observations = []\n",
        "classification_accuracy = []\n",
        "\n",
        "while size <= 0.95:\n",
        "    size += 0.05\n",
        "\n",
        "    X_train, X_test, y_train, y_test = train_test_split(X, Y, test_size=size)\n",
        "    clf = svm.SVC()\n",
        "    y_pred = gnb.fit(X_train, y_train).predict(X_test)\n",
        "\n",
        "    list_test_size.append(size)\n",
        "    percentage_misclassified_observations.append(np.count_nonzero(y_test != y_pred) / len(y_pred))\n",
        "    classification_accuracy.append(gnb.fit(X_train, y_train).score(X_test, y_test))\n",
        "\n",
        "fig, ax = plt.subplots(figsize=(17, 10))\n",
        "\n",
        "ax.bar(list_test_size, classification_accuracy, width=0.03)\n",
        "ax.bar(list_test_size, percentage_misclassified_observations, width=0.03)\n",
        "\n",
        "ax.set_facecolor('seashell')\n",
        "fig.set_facecolor('floralwhite')\n",
        "\n",
        "plt.xlabel('Размер тестовой выборки')\n",
        "plt.ylabel('Неправильно классифицированные наблюдения (оранжевый) и точность классификации (синий)')\n",
        "plt.title(\n",
        "    label='График зависимости неправильно классифицированных наблюдений и точности классификации от размера тестовой выборки.',\n",
        "    fontweight=12)\n",
        "\n",
        "plt.show()"
      ],
      "metadata": {
        "colab": {
          "base_uri": "https://localhost:8080/",
          "height": 808
        },
        "id": "jeG-Dt7mTDVX",
        "outputId": "3a5beedd-8244-4c97-e90c-cf2ce6be4a02"
      },
      "execution_count": 14,
      "outputs": [
        {
          "output_type": "display_data",
          "data": {
            "text/plain": [
              "<Figure size 1700x1000 with 1 Axes>"
            ],
            "image/png": "[encoded data removed]"
          },
          "metadata": {}
        }
      ]
    },
    {
      "cell_type": "code",
      "source": [
        "from random import randint\n",
        "\n",
        "X_train, X_test, y_train, y_test = train_test_split(X, Y, test_size=0.05)\n",
        "\n",
        "kernel_parameters = ('linear', 'poly', 'rbf', 'sigmoid')\n",
        "\n",
        "for parameter in kernel_parameters:\n",
        "    degree_rand = randint(2, 5)\n",
        "    max_iter_random = randint(2, 5)\n",
        "\n",
        "    clf = svm.SVC(kernel=parameter, degree=degree_rand, max_iter=max_iter_random)\n",
        "    y_pred = clf.fit(X_train, y_train).predict(X_test)\n",
        "    print(f'''При kernel={parameter}, degree={degree_rand}, max_iter={max_iter_random}, неправильно классифицированные данные: {np.count_nonzero(y_test != y_pred)}, точность классификации: {clf.score(X, Y)}, векторы поддержки: {clf.support_vectors_}, индексы опорных векторов: {clf.support_}, количество опорных векторов для каждого класса: {clf.n_support_}''')\n"
      ],
      "metadata": {
        "colab": {
          "base_uri": "https://localhost:8080/"
        },
        "id": "iMDbYOQkTOuX",
        "outputId": "e2b2d596-4650-4fb3-dc22-798768c8f517"
      },
      "execution_count": 15,
      "outputs": [
        {
          "output_type": "stream",
          "name": "stdout",
          "text": [
            "При kernel=linear, degree=4, max_iter=5, неправильно классифицированные данные: 1, точность классификации: 0.98, векторы поддержки: [[5.1 3.3 1.7 0.5]\n",
            " [4.8 3.4 1.9 0.2]\n",
            " [4.5 2.3 1.3 0.3]\n",
            " [6.3 2.5 4.9 1.5]\n",
            " [6.9 3.1 4.9 1.5]\n",
            " [6.  2.7 5.1 1.6]\n",
            " [5.1 2.5 3.  1.1]\n",
            " [5.9 3.2 4.8 1.8]\n",
            " [6.4 2.9 4.3 1.3]\n",
            " [6.  3.  4.8 1.8]\n",
            " [6.2 2.8 4.8 1.8]\n",
            " [6.3 2.7 4.9 1.8]\n",
            " [6.3 2.8 5.1 1.5]\n",
            " [6.5 3.2 5.1 2. ]\n",
            " [4.9 2.5 4.5 1.7]], индексы опорных векторов: [  4  12 111   5  52  62  86 106 138  30  39  66  67 108 114], количество опорных векторов для каждого класса: [3 6 6]\n",
            "При kernel=poly, degree=2, max_iter=5, неправильно классифицированные данные: 1, точность классификации: 0.9733333333333334, векторы поддержки: [[5.1 3.3 1.7 0.5]\n",
            " [4.8 3.4 1.9 0.2]\n",
            " [4.5 2.3 1.3 0.3]\n",
            " [4.9 2.4 3.3 1. ]\n",
            " [6.3 2.5 4.9 1.5]\n",
            " [6.  2.7 5.1 1.6]\n",
            " [6.3 3.3 4.7 1.6]\n",
            " [5.1 2.5 3.  1.1]\n",
            " [5.9 3.2 4.8 1.8]\n",
            " [6.4 2.9 4.3 1.3]\n",
            " [6.  3.  4.8 1.8]\n",
            " [6.2 2.8 4.8 1.8]\n",
            " [6.1 3.  4.9 1.8]\n",
            " [6.3 2.7 4.9 1.8]\n",
            " [5.8 2.7 5.1 1.9]\n",
            " [4.9 2.5 4.5 1.7]], индексы опорных векторов: [  4  12 111   0   5  62  77  86 106 138  30  39  55  66  93 114], количество опорных векторов для каждого класса: [3 7 6]\n",
            "При kernel=rbf, degree=5, max_iter=4, неправильно классифицированные данные: 1, точность классификации: 0.98, векторы поддержки: [[5.7 3.8 1.7 0.3]\n",
            " [5.1 3.3 1.7 0.5]\n",
            " [4.8 3.4 1.9 0.2]\n",
            " [4.5 2.3 1.3 0.3]\n",
            " [4.9 2.4 3.3 1. ]\n",
            " [6.9 3.1 4.9 1.5]\n",
            " [6.  2.7 5.1 1.6]\n",
            " [5.1 2.5 3.  1.1]\n",
            " [5.9 3.2 4.8 1.8]\n",
            " [5.  2.3 3.3 1. ]\n",
            " [6.4 2.9 4.3 1.3]\n",
            " [6.  3.  4.8 1.8]\n",
            " [6.2 2.8 4.8 1.8]\n",
            " [7.9 3.8 6.4 2. ]\n",
            " [6.3 2.8 5.1 1.5]\n",
            " [6.5 3.2 5.1 2. ]\n",
            " [4.9 2.5 4.5 1.7]], индексы опорных векторов: [  3   4  12 111   0  52  62  86 106 131 138  30  39  48  67 108 114], количество опорных векторов для каждого класса: [4 7 6]\n",
            "При kernel=sigmoid, degree=4, max_iter=3, неправильно классифицированные данные: 7, точность классификации: 0.12, векторы поддержки: [[4.3 3.  1.1 0.1]\n",
            " [4.5 2.3 1.3 0.3]\n",
            " [5.  3.3 1.4 0.2]\n",
            " [4.9 2.4 3.3 1. ]\n",
            " [5.  2.  3.5 1. ]\n",
            " [7.  3.2 4.7 1.4]\n",
            " [6.9 3.1 4.9 1.5]\n",
            " [6.4 2.9 4.3 1.3]\n",
            " [7.9 3.8 6.4 2. ]\n",
            " [7.7 3.8 6.7 2.2]\n",
            " [6.7 3.  5.2 2.3]], индексы опорных векторов: [ 96 111 140   0  18  44  52 138  48 113 141], количество опорных векторов для каждого класса: [3 5 3]\n"
          ]
        },
        {
          "output_type": "stream",
          "name": "stderr",
          "text": [
            "/usr/local/lib/python3.9/dist-packages/sklearn/svm/_base.py:299: ConvergenceWarning: Solver terminated early (max_iter=5).  Consider pre-processing your data with StandardScaler or MinMaxScaler.\n",
            "  warnings.warn(\n",
            "/usr/local/lib/python3.9/dist-packages/sklearn/svm/_base.py:299: ConvergenceWarning: Solver terminated early (max_iter=5).  Consider pre-processing your data with StandardScaler or MinMaxScaler.\n",
            "  warnings.warn(\n",
            "/usr/local/lib/python3.9/dist-packages/sklearn/svm/_base.py:299: ConvergenceWarning: Solver terminated early (max_iter=4).  Consider pre-processing your data with StandardScaler or MinMaxScaler.\n",
            "  warnings.warn(\n",
            "/usr/local/lib/python3.9/dist-packages/sklearn/svm/_base.py:299: ConvergenceWarning: Solver terminated early (max_iter=3).  Consider pre-processing your data with StandardScaler or MinMaxScaler.\n",
            "  warnings.warn(\n"
          ]
        }
      ]
    },
    {
      "cell_type": "markdown",
      "source": [
        "Аналогичен SVC, но использует параметр для управления количеством опорных векторов."
      ],
      "metadata": {
        "id": "gfF1lILZT7Sp"
      }
    },
    {
      "cell_type": "code",
      "source": [
        "clf = svm.NuSVC()\n",
        "y_pred = clf.fit(X_train, y_train).predict(X_test)\n",
        "print(f'Неправильно классифицированные данные: {np.count_nonzero(y_test != y_pred)} точность классификации: {clf.score(X, Y)}, векторы поддержки: {clf.support_vectors_}, индексы опорных векторов: {clf.support_}, количество опорных векторов для каждого класса: {clf.n_support_}')"
      ],
      "metadata": {
        "colab": {
          "base_uri": "https://localhost:8080/"
        },
        "id": "Et7GRGHoTa9R",
        "outputId": "90482146-e2e5-4692-9667-9f67b6a9ac6c"
      },
      "execution_count": 16,
      "outputs": [
        {
          "output_type": "stream",
          "name": "stdout",
          "text": [
            "Неправильно классифицированные данные: 1 точность классификации: 0.9733333333333334, векторы поддержки: [[5.7 3.8 1.7 0.3]\n",
            " [5.1 3.3 1.7 0.5]\n",
            " [5.3 3.7 1.5 0.2]\n",
            " [5.4 3.7 1.5 0.2]\n",
            " [4.8 3.4 1.9 0.2]\n",
            " [5.1 3.4 1.5 0.2]\n",
            " [5.4 3.4 1.5 0.4]\n",
            " [5.5 4.2 1.4 0.2]\n",
            " [5.  3.4 1.6 0.4]\n",
            " [4.9 3.1 1.5 0.1]\n",
            " [5.1 3.8 1.6 0.2]\n",
            " [4.4 2.9 1.4 0.2]\n",
            " [5.8 4.  1.2 0.2]\n",
            " [4.8 3.1 1.6 0.2]\n",
            " [4.6 3.1 1.5 0.2]\n",
            " [5.  3.  1.6 0.2]\n",
            " [4.8 3.4 1.6 0.2]\n",
            " [4.8 3.  1.4 0.3]\n",
            " [5.  3.5 1.6 0.6]\n",
            " [4.7 3.2 1.6 0.2]\n",
            " [4.5 2.3 1.3 0.3]\n",
            " [5.2 3.5 1.5 0.2]\n",
            " [4.9 3.  1.4 0.2]\n",
            " [4.9 3.1 1.5 0.1]\n",
            " [4.9 3.1 1.5 0.1]\n",
            " [5.4 3.4 1.7 0.2]\n",
            " [5.1 3.7 1.5 0.4]\n",
            " [5.7 4.4 1.5 0.4]\n",
            " [5.4 3.9 1.7 0.4]\n",
            " [4.9 2.4 3.3 1. ]\n",
            " [6.3 2.5 4.9 1.5]\n",
            " [5.8 2.6 4.  1.2]\n",
            " [6.1 2.8 4.  1.3]\n",
            " [5.4 3.  4.5 1.5]\n",
            " [5.9 3.  4.2 1.5]\n",
            " [5.  2.  3.5 1. ]\n",
            " [6.1 3.  4.6 1.4]\n",
            " [6.3 2.3 4.4 1.3]\n",
            " [5.7 2.9 4.2 1.3]\n",
            " [6.2 2.2 4.5 1.5]\n",
            " [6.5 2.8 4.6 1.5]\n",
            " [5.5 2.3 4.  1.3]\n",
            " [5.7 3.  4.2 1.2]\n",
            " [5.8 2.7 3.9 1.2]\n",
            " [7.  3.2 4.7 1.4]\n",
            " [5.6 3.  4.1 1.3]\n",
            " [5.2 2.7 3.9 1.4]\n",
            " [6.9 3.1 4.9 1.5]\n",
            " [6.6 2.9 4.6 1.3]\n",
            " [6.1 2.8 4.7 1.2]\n",
            " [6.2 2.9 4.3 1.3]\n",
            " [6.8 2.8 4.8 1.4]\n",
            " [5.7 2.8 4.1 1.3]\n",
            " [6.  2.7 5.1 1.6]\n",
            " [5.5 2.6 4.4 1.2]\n",
            " [5.7 2.6 3.5 1. ]\n",
            " [6.3 3.3 4.7 1.6]\n",
            " [5.5 2.4 3.7 1. ]\n",
            " [5.1 2.5 3.  1.1]\n",
            " [5.8 2.7 4.1 1. ]\n",
            " [5.5 2.5 4.  1.3]\n",
            " [6.7 3.1 4.4 1.4]\n",
            " [6.7 3.1 4.7 1.5]\n",
            " [5.6 2.9 3.6 1.3]\n",
            " [6.4 3.2 4.5 1.5]\n",
            " [6.1 2.9 4.7 1.4]\n",
            " [5.9 3.2 4.8 1.8]\n",
            " [6.6 3.  4.4 1.4]\n",
            " [5.5 2.4 3.8 1.1]\n",
            " [5.6 2.5 3.9 1.1]\n",
            " [5.6 2.7 4.2 1.3]\n",
            " [6.  2.2 4.  1. ]\n",
            " [5.6 3.  4.5 1.5]\n",
            " [5.  2.3 3.3 1. ]\n",
            " [5.7 2.8 4.5 1.3]\n",
            " [6.9 3.1 5.1 2.3]\n",
            " [7.2 3.  5.8 1.6]\n",
            " [6.5 3.  5.5 1.8]\n",
            " [6.  2.2 5.  1.5]\n",
            " [6.  3.  4.8 1.8]\n",
            " [5.6 2.8 4.9 2. ]\n",
            " [5.8 2.7 5.1 1.9]\n",
            " [6.2 2.8 4.8 1.8]\n",
            " [7.9 3.8 6.4 2. ]\n",
            " [6.4 2.7 5.3 1.9]\n",
            " [6.1 3.  4.9 1.8]\n",
            " [7.7 2.6 6.9 2.3]\n",
            " [6.3 2.7 4.9 1.8]\n",
            " [6.3 2.8 5.1 1.5]\n",
            " [6.2 3.4 5.4 2.3]\n",
            " [7.7 2.8 6.7 2. ]\n",
            " [6.4 3.1 5.5 1.8]\n",
            " [5.9 3.  5.1 1.8]\n",
            " [5.8 2.7 5.1 1.9]\n",
            " [6.4 3.2 5.3 2.3]\n",
            " [6.3 2.5 5.  1.9]\n",
            " [5.8 2.8 5.1 2.4]\n",
            " [6.5 3.  5.2 2. ]\n",
            " [6.5 3.2 5.1 2. ]\n",
            " [7.7 3.8 6.7 2.2]\n",
            " [4.9 2.5 4.5 1.7]\n",
            " [6.9 3.1 5.4 2.1]\n",
            " [5.7 2.5 5.  2. ]\n",
            " [6.3 2.9 5.6 1.8]\n",
            " [6.7 3.  5.2 2.3]], индексы опорных векторов: [  3   4   9  11  12  14  17  20  35  41  45  46  47  73  75  76  79  80\n",
            "  84  89 111 120 121 123 124 126 128 129 135   0   5   6  13  15  16  18\n",
            "  26  27  31  32  36  38  40  42  44  50  51  52  54  56  57  60  61  62\n",
            "  68  71  77  83  86  90  91  95  97 100 101 102 106 112 116 117 122 125\n",
            " 130 131 136   2  10  21  28  30  33  37  39  48  53  55  63  66  67  78\n",
            "  87  88  92  93  94  99 104 107 108 113 114 115 119 133 141], количество опорных векторов для каждого класса: [29 46 30]\n"
          ]
        }
      ]
    },
    {
      "cell_type": "markdown",
      "source": [
        "Аналогичен SVC с параметром kernel='linear', но реализован в терминах liblinear, а не libsvm, поэтому обладает большей гибкостью в выборе штрафов и функций потерь и должен лучше масштабироваться на большое количество выборок. Этот класс поддерживает как плотные, так и разреженные входные данные, а поддержка нескольких классов осуществляется по схеме 'один против остальных'.\n"
      ],
      "metadata": {
        "id": "HXHMwcJlT_ww"
      }
    },
    {
      "cell_type": "code",
      "source": [
        "clf = svm.LinearSVC()\n",
        "y_pred = clf.fit(X_train, y_train).predict(X_test)\n",
        "print(f'Неправильно классифицированные данные: {np.count_nonzero(y_test != y_pred)} точность классификации: {clf.score(X, Y)}')"
      ],
      "metadata": {
        "colab": {
          "base_uri": "https://localhost:8080/"
        },
        "id": "kw4jiZ7dT1Pn",
        "outputId": "d45c531e-8fd7-4be7-b673-c4346f944d34"
      },
      "execution_count": 17,
      "outputs": [
        {
          "output_type": "stream",
          "name": "stdout",
          "text": [
            "Неправильно классифицированные данные: 1 точность классификации: 0.9533333333333334\n"
          ]
        },
        {
          "output_type": "stream",
          "name": "stderr",
          "text": [
            "/usr/local/lib/python3.9/dist-packages/sklearn/svm/_base.py:1244: ConvergenceWarning: Liblinear failed to converge, increase the number of iterations.\n",
            "  warnings.warn(\n"
          ]
        }
      ]
    },
    {
      "cell_type": "code",
      "source": [],
      "metadata": {
        "id": "62NX8TtNT8dG"
      },
      "execution_count": null,
      "outputs": []
    }
  ]
}